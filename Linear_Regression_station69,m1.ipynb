{
  "nbformat": 4,
  "nbformat_minor": 0,
  "metadata": {
    "colab": {
      "name": " Linear_Regression_station69,m1.ipynb",
      "provenance": [],
      "collapsed_sections": [],
      "include_colab_link": true
    },
    "kernelspec": {
      "name": "python3",
      "display_name": "Python 3"
    },
    "accelerator": "GPU"
  },
  "cells": [
    {
      "cell_type": "markdown",
      "metadata": {
        "id": "view-in-github",
        "colab_type": "text"
      },
      "source": [
        "<a href=\"https://colab.research.google.com/github/AlexisD29/Field-Mapping/blob/main/Linear_Regression_station69%2Cm1.ipynb\" target=\"_parent\"><img src=\"https://colab.research.google.com/assets/colab-badge.svg\" alt=\"Open In Colab\"/></a>"
      ]
    },
    {
      "cell_type": "code",
      "metadata": {
        "id": "oe2kIZXLlaU8",
        "colab": {
          "base_uri": "https://localhost:8080/",
          "height": 33
        },
        "outputId": "c0cac754-41f9-4802-b7b0-247bb90659ff"
      },
      "source": [
        "from google.colab import drive\n",
        "drive.mount('/content/drive') # that's the location your drive will be mounted"
      ],
      "execution_count": null,
      "outputs": [
        {
          "output_type": "stream",
          "text": [
            "Drive already mounted at /content/drive; to attempt to forcibly remount, call drive.mount(\"/content/drive\", force_remount=True).\n"
          ],
          "name": "stdout"
        }
      ]
    },
    {
      "cell_type": "code",
      "metadata": {
        "id": "bobr2zcvxiSQ"
      },
      "source": [
        "import pandas as pd\n",
        "df = pd.read_hdf(\"/content/drive/My Drive/SULI/run3997_.h5\", key='raw')\n",
        "\n",
        "# we need to know the positions of the fixed probe stations:\n",
        "import numpy as np\n",
        "fp_positions = np.array([350.17, 354.33, 358.84,   4.34,   9.33,  14.23,  20.2 ,  23.32,\n",
        "        29.33,  34.33,  39.33,  43.31,  50.2 ,  53.31,  59.34,  64.33,\n",
        "        69.34,  73.3 ,  80.17,  83.32,  89.31,  94.33,  99.31, 103.3 ,\n",
        "       110.19, 113.31, 119.34, 124.32, 129.3 , 133.27, 140.21, 143.38,\n",
        "       149.34, 154.33, 159.36, 163.31, 170.19, 173.39, 179.36, 184.35,\n",
        "       189.36, 193.31, 200.17, 203.38, 209.34, 214.31, 219.34, 223.32,\n",
        "       230.22, 233.42, 239.36, 244.34, 249.38, 253.34, 260.2 , 263.47,\n",
        "       269.35, 274.34, 279.38, 283.41, 290.19, 293.37, 299.34, 304.31,\n",
        "       309.34, 313.29, 320.19, 323.41, 329.33, 334.35, 339.35, 343.41])"
      ],
      "execution_count": null,
      "outputs": []
    },
    {
      "cell_type": "code",
      "metadata": {
        "id": "wX82TGxLxpFk",
        "colab": {
          "base_uri": "https://localhost:8080/",
          "height": 33
        },
        "outputId": "0995b19c-c32b-4b74-8589-80af6abcf4c2"
      },
      "source": [
        "station = 40\n",
        "veto_extent = 25 # studies have shown that the effect of the trolley is that large\n",
        "offset = -1.5 # the center of the trolley footprint is 1.5deg off from its position\n",
        "\n",
        "veto_low = (fp_positions[station] + offset - veto_extent/2)%360\n",
        "veto_high = (fp_positions[station] + offset + veto_extent/2)%360\n",
        "\n",
        "if veto_low > veto_high:\n",
        "    veto_low, veto_high = veto_high, veto_low\n",
        "\n",
        "required_low =  (fp_positions[station-1] + fp_positions[station])/2. # that's the range the trolley and the fixed probes will be \"synchronized\"\n",
        "required_high = (fp_positions[station+1] + fp_positions[station])/2.\n",
        "\n",
        "print(\"Station %i at %.2fdeg: veto from %.2fdeg to %.2fdeg\" % (station, fp_positions[station], veto_low, veto_high))\n",
        "veto     = (df['tr_phi']>veto_low)     & (df['tr_phi']<veto_high)\n",
        "required = (df['tr_phi']>required_low) & (df['tr_phi']<required_high)"
      ],
      "execution_count": null,
      "outputs": [
        {
          "output_type": "stream",
          "text": [
            "Station 40 at 189.36deg: veto from 175.36deg to 200.36deg\n"
          ],
          "name": "stdout"
        }
      ]
    },
    {
      "cell_type": "code",
      "metadata": {
        "id": "DrJLfivcNt19"
      },
      "source": [
        "# Let's use some data before and after the \"veto-range\" for our linear interpolation/regression\n",
        "regression_data_extent = 1.0 # degrees\n",
        "regression_data = ((df['tr_phi'] < veto_low) & (df['tr_phi'] > veto_low - regression_data_extent) |\n",
        "              (df['tr_phi'] > veto_high) & (df['tr_phi'] < veto_high + regression_data_extent) )"
      ],
      "execution_count": null,
      "outputs": []
    },
    {
      "cell_type": "code",
      "metadata": {
        "id": "L6-AmNz3X17P",
        "colab": {
          "base_uri": "https://localhost:8080/",
          "height": 496
        },
        "outputId": "0de5faad-bd90-4b1a-d819-00128c597d9a"
      },
      "source": [
        "df.head()"
      ],
      "execution_count": null,
      "outputs": [
        {
          "output_type": "execute_result",
          "data": {
            "text/html": [
              "<div>\n",
              "<style scoped>\n",
              "    .dataframe tbody tr th:only-of-type {\n",
              "        vertical-align: middle;\n",
              "    }\n",
              "\n",
              "    .dataframe tbody tr th {\n",
              "        vertical-align: top;\n",
              "    }\n",
              "\n",
              "    .dataframe thead th {\n",
              "        text-align: right;\n",
              "    }\n",
              "</style>\n",
              "<table border=\"1\" class=\"dataframe\">\n",
              "  <thead>\n",
              "    <tr style=\"text-align: right;\">\n",
              "      <th></th>\n",
              "      <th>fp0</th>\n",
              "      <th>fp1</th>\n",
              "      <th>fp2</th>\n",
              "      <th>fp3</th>\n",
              "      <th>fp4</th>\n",
              "      <th>fp5</th>\n",
              "      <th>fp6</th>\n",
              "      <th>fp7</th>\n",
              "      <th>fp8</th>\n",
              "      <th>fp9</th>\n",
              "      <th>fp10</th>\n",
              "      <th>fp11</th>\n",
              "      <th>fp12</th>\n",
              "      <th>fp13</th>\n",
              "      <th>fp14</th>\n",
              "      <th>fp15</th>\n",
              "      <th>fp16</th>\n",
              "      <th>fp17</th>\n",
              "      <th>fp18</th>\n",
              "      <th>fp19</th>\n",
              "      <th>fp20</th>\n",
              "      <th>fp21</th>\n",
              "      <th>fp22</th>\n",
              "      <th>fp23</th>\n",
              "      <th>fp24</th>\n",
              "      <th>fp25</th>\n",
              "      <th>fp26</th>\n",
              "      <th>fp27</th>\n",
              "      <th>fp28</th>\n",
              "      <th>fp29</th>\n",
              "      <th>fp30</th>\n",
              "      <th>fp31</th>\n",
              "      <th>fp32</th>\n",
              "      <th>fp33</th>\n",
              "      <th>fp34</th>\n",
              "      <th>fp35</th>\n",
              "      <th>fp36</th>\n",
              "      <th>fp37</th>\n",
              "      <th>fp38</th>\n",
              "      <th>fp39</th>\n",
              "      <th>...</th>\n",
              "      <th>st68,m2</th>\n",
              "      <th>st68,m3</th>\n",
              "      <th>st68,m4</th>\n",
              "      <th>st68,m5</th>\n",
              "      <th>st68,m6</th>\n",
              "      <th>st69,m1</th>\n",
              "      <th>st69,m2</th>\n",
              "      <th>st69,m3</th>\n",
              "      <th>st69,m4</th>\n",
              "      <th>st69,m5</th>\n",
              "      <th>st69,m6</th>\n",
              "      <th>st70,m1</th>\n",
              "      <th>st70,m2</th>\n",
              "      <th>st70,m3</th>\n",
              "      <th>st70,m4</th>\n",
              "      <th>st70,m5</th>\n",
              "      <th>st70,m6</th>\n",
              "      <th>st71,m1</th>\n",
              "      <th>st71,m2</th>\n",
              "      <th>st71,m3</th>\n",
              "      <th>st71,m4</th>\n",
              "      <th>st71,m5</th>\n",
              "      <th>st71,m6</th>\n",
              "      <th>tr,m1</th>\n",
              "      <th>tr,m2</th>\n",
              "      <th>tr,m3</th>\n",
              "      <th>tr,m4</th>\n",
              "      <th>tr,m5</th>\n",
              "      <th>tr,m6</th>\n",
              "      <th>tr,m7</th>\n",
              "      <th>tr,m8</th>\n",
              "      <th>tr,m9</th>\n",
              "      <th>tr,m10</th>\n",
              "      <th>tr,m11</th>\n",
              "      <th>tr,m12</th>\n",
              "      <th>tr,m13</th>\n",
              "      <th>tr,m14</th>\n",
              "      <th>tr,m15</th>\n",
              "      <th>tr,m16</th>\n",
              "      <th>tr,m17</th>\n",
              "    </tr>\n",
              "  </thead>\n",
              "  <tbody>\n",
              "    <tr>\n",
              "      <th>2018-04-25 02:47:01-05:00</th>\n",
              "      <td>45121.330222</td>\n",
              "      <td>50479.467168</td>\n",
              "      <td>54883.298883</td>\n",
              "      <td>49532.156971</td>\n",
              "      <td>61949.422202</td>\n",
              "      <td>67457.838898</td>\n",
              "      <td>35134.234975</td>\n",
              "      <td>50981.818215</td>\n",
              "      <td>56457.686283</td>\n",
              "      <td>44877.933681</td>\n",
              "      <td>56381.670350</td>\n",
              "      <td>62441.511522</td>\n",
              "      <td>42528.322900</td>\n",
              "      <td>52159.577570</td>\n",
              "      <td>56774.837280</td>\n",
              "      <td>45416.872601</td>\n",
              "      <td>55231.351281</td>\n",
              "      <td>61257.312516</td>\n",
              "      <td>56543.538987</td>\n",
              "      <td>53111.558295</td>\n",
              "      <td>47246.710239</td>\n",
              "      <td>59702.8367</td>\n",
              "      <td>55252.588545</td>\n",
              "      <td>48226.179585</td>\n",
              "      <td>60242.783514</td>\n",
              "      <td>57671.617712</td>\n",
              "      <td>43526.228728</td>\n",
              "      <td>73001.863454</td>\n",
              "      <td>58836.588689</td>\n",
              "      <td>53202.050951</td>\n",
              "      <td>62991.722845</td>\n",
              "      <td>58001.482950</td>\n",
              "      <td>49342.898686</td>\n",
              "      <td>65705.331816</td>\n",
              "      <td>65822.074547</td>\n",
              "      <td>61187.493671</td>\n",
              "      <td>45581.876449</td>\n",
              "      <td>53002.662900</td>\n",
              "      <td>54985.035984</td>\n",
              "      <td>51142.422216</td>\n",
              "      <td>...</td>\n",
              "      <td>-352.018793</td>\n",
              "      <td>-234.845072</td>\n",
              "      <td>-1518.594025</td>\n",
              "      <td>923.698755</td>\n",
              "      <td>4364.645516</td>\n",
              "      <td>55219.433056</td>\n",
              "      <td>-4030.503043</td>\n",
              "      <td>325.367391</td>\n",
              "      <td>-2342.346376</td>\n",
              "      <td>1668.183757</td>\n",
              "      <td>2422.546008</td>\n",
              "      <td>53398.931580</td>\n",
              "      <td>-1494.902493</td>\n",
              "      <td>718.535333</td>\n",
              "      <td>1152.192237</td>\n",
              "      <td>2409.702683</td>\n",
              "      <td>488.183948</td>\n",
              "      <td>52991.419151</td>\n",
              "      <td>-4184.577102</td>\n",
              "      <td>1022.529421</td>\n",
              "      <td>1846.572987</td>\n",
              "      <td>790.585464</td>\n",
              "      <td>-59.762412</td>\n",
              "      <td>53061.072294</td>\n",
              "      <td>68.444453</td>\n",
              "      <td>151.543175</td>\n",
              "      <td>422.701288</td>\n",
              "      <td>19.859639</td>\n",
              "      <td>-107.471424</td>\n",
              "      <td>81.828103</td>\n",
              "      <td>-82.549399</td>\n",
              "      <td>-56.279400</td>\n",
              "      <td>45.178420</td>\n",
              "      <td>198.879479</td>\n",
              "      <td>-60.421582</td>\n",
              "      <td>0.0</td>\n",
              "      <td>-159.264002</td>\n",
              "      <td>337.205102</td>\n",
              "      <td>0.0</td>\n",
              "      <td>0.0</td>\n",
              "    </tr>\n",
              "    <tr>\n",
              "      <th>2018-04-25 02:47:02-05:00</th>\n",
              "      <td>45120.400006</td>\n",
              "      <td>50479.834853</td>\n",
              "      <td>54883.737490</td>\n",
              "      <td>49558.994882</td>\n",
              "      <td>61927.206768</td>\n",
              "      <td>67515.186699</td>\n",
              "      <td>35130.070020</td>\n",
              "      <td>50982.008002</td>\n",
              "      <td>56458.025298</td>\n",
              "      <td>44873.804767</td>\n",
              "      <td>56376.797198</td>\n",
              "      <td>62441.239734</td>\n",
              "      <td>42529.516273</td>\n",
              "      <td>52158.777272</td>\n",
              "      <td>56774.833006</td>\n",
              "      <td>45447.533343</td>\n",
              "      <td>55281.002225</td>\n",
              "      <td>61283.829701</td>\n",
              "      <td>56543.754997</td>\n",
              "      <td>53113.097230</td>\n",
              "      <td>47248.370650</td>\n",
              "      <td>59702.8367</td>\n",
              "      <td>55202.594072</td>\n",
              "      <td>48218.611242</td>\n",
              "      <td>60241.311816</td>\n",
              "      <td>57672.338985</td>\n",
              "      <td>43525.513139</td>\n",
              "      <td>73071.310137</td>\n",
              "      <td>58834.271211</td>\n",
              "      <td>53196.885047</td>\n",
              "      <td>62999.455002</td>\n",
              "      <td>58002.264946</td>\n",
              "      <td>49343.333997</td>\n",
              "      <td>65693.541887</td>\n",
              "      <td>65770.910332</td>\n",
              "      <td>61293.784587</td>\n",
              "      <td>45581.937049</td>\n",
              "      <td>53002.506969</td>\n",
              "      <td>54985.277831</td>\n",
              "      <td>51142.256443</td>\n",
              "      <td>...</td>\n",
              "      <td>-352.253887</td>\n",
              "      <td>-234.870338</td>\n",
              "      <td>-1518.444847</td>\n",
              "      <td>925.865927</td>\n",
              "      <td>4363.103590</td>\n",
              "      <td>55218.838744</td>\n",
              "      <td>-4024.248546</td>\n",
              "      <td>324.207521</td>\n",
              "      <td>-2343.726953</td>\n",
              "      <td>1670.064408</td>\n",
              "      <td>2422.779367</td>\n",
              "      <td>53399.336760</td>\n",
              "      <td>-1495.082470</td>\n",
              "      <td>718.316510</td>\n",
              "      <td>1152.127106</td>\n",
              "      <td>2411.297955</td>\n",
              "      <td>490.185519</td>\n",
              "      <td>52992.013553</td>\n",
              "      <td>-4186.359995</td>\n",
              "      <td>1022.381366</td>\n",
              "      <td>1846.598064</td>\n",
              "      <td>791.069579</td>\n",
              "      <td>-58.505594</td>\n",
              "      <td>53061.129354</td>\n",
              "      <td>68.504032</td>\n",
              "      <td>151.781238</td>\n",
              "      <td>422.496123</td>\n",
              "      <td>20.120751</td>\n",
              "      <td>-108.192581</td>\n",
              "      <td>81.581832</td>\n",
              "      <td>-82.878718</td>\n",
              "      <td>-55.285620</td>\n",
              "      <td>19.247051</td>\n",
              "      <td>151.018594</td>\n",
              "      <td>-61.880669</td>\n",
              "      <td>0.0</td>\n",
              "      <td>-114.542080</td>\n",
              "      <td>260.264430</td>\n",
              "      <td>0.0</td>\n",
              "      <td>0.0</td>\n",
              "    </tr>\n",
              "    <tr>\n",
              "      <th>2018-04-25 02:47:03-05:00</th>\n",
              "      <td>45119.566030</td>\n",
              "      <td>50480.222045</td>\n",
              "      <td>54884.005555</td>\n",
              "      <td>49564.024494</td>\n",
              "      <td>61932.965307</td>\n",
              "      <td>67596.965136</td>\n",
              "      <td>35128.574129</td>\n",
              "      <td>50983.186427</td>\n",
              "      <td>56457.887330</td>\n",
              "      <td>44870.822528</td>\n",
              "      <td>56367.256956</td>\n",
              "      <td>62426.082374</td>\n",
              "      <td>42526.967047</td>\n",
              "      <td>52160.988071</td>\n",
              "      <td>56773.646079</td>\n",
              "      <td>45436.596953</td>\n",
              "      <td>55262.590584</td>\n",
              "      <td>61287.274618</td>\n",
              "      <td>56543.454747</td>\n",
              "      <td>53113.078230</td>\n",
              "      <td>47247.304162</td>\n",
              "      <td>59702.8367</td>\n",
              "      <td>55216.960456</td>\n",
              "      <td>48208.417976</td>\n",
              "      <td>60245.846244</td>\n",
              "      <td>57672.480179</td>\n",
              "      <td>43527.346795</td>\n",
              "      <td>72988.914030</td>\n",
              "      <td>58833.394491</td>\n",
              "      <td>53195.649227</td>\n",
              "      <td>63003.533878</td>\n",
              "      <td>58001.875717</td>\n",
              "      <td>49342.263328</td>\n",
              "      <td>65687.072148</td>\n",
              "      <td>65758.355086</td>\n",
              "      <td>61316.359671</td>\n",
              "      <td>45581.265014</td>\n",
              "      <td>53003.142626</td>\n",
              "      <td>54985.367428</td>\n",
              "      <td>51142.217340</td>\n",
              "      <td>...</td>\n",
              "      <td>-352.538114</td>\n",
              "      <td>-234.932883</td>\n",
              "      <td>-1518.404625</td>\n",
              "      <td>930.147072</td>\n",
              "      <td>4358.586911</td>\n",
              "      <td>55217.170833</td>\n",
              "      <td>-4020.776837</td>\n",
              "      <td>324.341081</td>\n",
              "      <td>-2343.789727</td>\n",
              "      <td>1672.567667</td>\n",
              "      <td>2419.869304</td>\n",
              "      <td>53399.031349</td>\n",
              "      <td>-1494.937758</td>\n",
              "      <td>718.478096</td>\n",
              "      <td>1152.084168</td>\n",
              "      <td>2412.030412</td>\n",
              "      <td>488.875672</td>\n",
              "      <td>52991.215939</td>\n",
              "      <td>-4185.575917</td>\n",
              "      <td>1022.968742</td>\n",
              "      <td>1846.464924</td>\n",
              "      <td>790.963848</td>\n",
              "      <td>-59.321095</td>\n",
              "      <td>53060.829747</td>\n",
              "      <td>68.546106</td>\n",
              "      <td>151.516287</td>\n",
              "      <td>422.303544</td>\n",
              "      <td>20.147102</td>\n",
              "      <td>-107.999295</td>\n",
              "      <td>82.018587</td>\n",
              "      <td>-82.558416</td>\n",
              "      <td>-54.427985</td>\n",
              "      <td>7.373257</td>\n",
              "      <td>155.574484</td>\n",
              "      <td>-62.888454</td>\n",
              "      <td>0.0</td>\n",
              "      <td>-95.208539</td>\n",
              "      <td>267.075706</td>\n",
              "      <td>0.0</td>\n",
              "      <td>0.0</td>\n",
              "    </tr>\n",
              "    <tr>\n",
              "      <th>2018-04-25 02:47:04-05:00</th>\n",
              "      <td>45119.769818</td>\n",
              "      <td>50479.854368</td>\n",
              "      <td>54883.425171</td>\n",
              "      <td>49596.330313</td>\n",
              "      <td>61924.389375</td>\n",
              "      <td>67696.834766</td>\n",
              "      <td>35130.326168</td>\n",
              "      <td>50983.046675</td>\n",
              "      <td>56457.559901</td>\n",
              "      <td>44860.166354</td>\n",
              "      <td>56369.181238</td>\n",
              "      <td>62433.414570</td>\n",
              "      <td>42524.375795</td>\n",
              "      <td>52160.340803</td>\n",
              "      <td>56773.513372</td>\n",
              "      <td>45411.473142</td>\n",
              "      <td>55208.895160</td>\n",
              "      <td>61310.146711</td>\n",
              "      <td>56542.927726</td>\n",
              "      <td>53112.671872</td>\n",
              "      <td>47246.385987</td>\n",
              "      <td>59702.8367</td>\n",
              "      <td>55240.834108</td>\n",
              "      <td>48203.947527</td>\n",
              "      <td>60250.799371</td>\n",
              "      <td>57672.272490</td>\n",
              "      <td>43530.186091</td>\n",
              "      <td>72928.260960</td>\n",
              "      <td>58830.969896</td>\n",
              "      <td>53195.330082</td>\n",
              "      <td>63003.982866</td>\n",
              "      <td>58001.498164</td>\n",
              "      <td>49340.896528</td>\n",
              "      <td>65691.178676</td>\n",
              "      <td>65767.264225</td>\n",
              "      <td>61290.974763</td>\n",
              "      <td>45579.426587</td>\n",
              "      <td>53003.684618</td>\n",
              "      <td>54985.041588</td>\n",
              "      <td>51142.286114</td>\n",
              "      <td>...</td>\n",
              "      <td>-352.805392</td>\n",
              "      <td>-234.809299</td>\n",
              "      <td>-1518.502157</td>\n",
              "      <td>929.704361</td>\n",
              "      <td>4358.743158</td>\n",
              "      <td>55216.306193</td>\n",
              "      <td>-4021.241469</td>\n",
              "      <td>324.772695</td>\n",
              "      <td>-2343.422817</td>\n",
              "      <td>1671.535724</td>\n",
              "      <td>2419.693409</td>\n",
              "      <td>53398.276366</td>\n",
              "      <td>-1494.637814</td>\n",
              "      <td>718.662691</td>\n",
              "      <td>1152.174782</td>\n",
              "      <td>2410.411584</td>\n",
              "      <td>488.368958</td>\n",
              "      <td>52989.508081</td>\n",
              "      <td>-4183.799804</td>\n",
              "      <td>1023.775510</td>\n",
              "      <td>1846.129793</td>\n",
              "      <td>789.894682</td>\n",
              "      <td>-59.882215</td>\n",
              "      <td>53060.692535</td>\n",
              "      <td>68.483097</td>\n",
              "      <td>151.560444</td>\n",
              "      <td>422.207309</td>\n",
              "      <td>20.309364</td>\n",
              "      <td>-108.089963</td>\n",
              "      <td>82.515101</td>\n",
              "      <td>-82.753087</td>\n",
              "      <td>-55.160550</td>\n",
              "      <td>-5.148639</td>\n",
              "      <td>188.404677</td>\n",
              "      <td>-62.161953</td>\n",
              "      <td>0.0</td>\n",
              "      <td>-76.125714</td>\n",
              "      <td>319.802494</td>\n",
              "      <td>0.0</td>\n",
              "      <td>0.0</td>\n",
              "    </tr>\n",
              "    <tr>\n",
              "      <th>2018-04-25 02:47:05-05:00</th>\n",
              "      <td>45119.927309</td>\n",
              "      <td>50479.513919</td>\n",
              "      <td>54882.761623</td>\n",
              "      <td>49619.966759</td>\n",
              "      <td>61914.464000</td>\n",
              "      <td>67789.499461</td>\n",
              "      <td>35133.657443</td>\n",
              "      <td>50981.571471</td>\n",
              "      <td>56457.133494</td>\n",
              "      <td>44849.930909</td>\n",
              "      <td>56372.421290</td>\n",
              "      <td>62445.241335</td>\n",
              "      <td>42522.271667</td>\n",
              "      <td>52158.766883</td>\n",
              "      <td>56774.072325</td>\n",
              "      <td>45377.373848</td>\n",
              "      <td>55135.675271</td>\n",
              "      <td>61355.464172</td>\n",
              "      <td>56542.229436</td>\n",
              "      <td>53112.025991</td>\n",
              "      <td>47246.998759</td>\n",
              "      <td>59702.8367</td>\n",
              "      <td>55232.383521</td>\n",
              "      <td>48225.847914</td>\n",
              "      <td>60244.941486</td>\n",
              "      <td>57671.887868</td>\n",
              "      <td>43528.440957</td>\n",
              "      <td>72929.336968</td>\n",
              "      <td>58825.528311</td>\n",
              "      <td>53195.283322</td>\n",
              "      <td>62997.157122</td>\n",
              "      <td>58002.309187</td>\n",
              "      <td>49340.543126</td>\n",
              "      <td>65735.131740</td>\n",
              "      <td>65779.061390</td>\n",
              "      <td>61325.342550</td>\n",
              "      <td>45578.125212</td>\n",
              "      <td>53003.786174</td>\n",
              "      <td>54984.653023</td>\n",
              "      <td>51142.419039</td>\n",
              "      <td>...</td>\n",
              "      <td>-352.474683</td>\n",
              "      <td>-234.698850</td>\n",
              "      <td>-1518.697161</td>\n",
              "      <td>928.067417</td>\n",
              "      <td>4358.941352</td>\n",
              "      <td>55217.807908</td>\n",
              "      <td>-4026.689249</td>\n",
              "      <td>324.804313</td>\n",
              "      <td>-2341.961915</td>\n",
              "      <td>1669.819188</td>\n",
              "      <td>2420.649875</td>\n",
              "      <td>53398.114073</td>\n",
              "      <td>-1494.465548</td>\n",
              "      <td>718.394833</td>\n",
              "      <td>1152.323106</td>\n",
              "      <td>2408.615773</td>\n",
              "      <td>490.080675</td>\n",
              "      <td>52990.818937</td>\n",
              "      <td>-4185.058623</td>\n",
              "      <td>1023.193446</td>\n",
              "      <td>1846.638918</td>\n",
              "      <td>789.064217</td>\n",
              "      <td>-58.558338</td>\n",
              "      <td>53060.726805</td>\n",
              "      <td>68.496148</td>\n",
              "      <td>152.204867</td>\n",
              "      <td>422.656561</td>\n",
              "      <td>19.899328</td>\n",
              "      <td>-108.873227</td>\n",
              "      <td>82.028167</td>\n",
              "      <td>-83.209841</td>\n",
              "      <td>-54.449876</td>\n",
              "      <td>-2.742014</td>\n",
              "      <td>133.019235</td>\n",
              "      <td>-61.742293</td>\n",
              "      <td>0.0</td>\n",
              "      <td>-78.197141</td>\n",
              "      <td>230.651748</td>\n",
              "      <td>0.0</td>\n",
              "      <td>0.0</td>\n",
              "    </tr>\n",
              "  </tbody>\n",
              "</table>\n",
              "<p>5 rows × 845 columns</p>\n",
              "</div>"
            ],
            "text/plain": [
              "                                    fp0           fp1  ...  tr,m16  tr,m17\n",
              "2018-04-25 02:47:01-05:00  45121.330222  50479.467168  ...     0.0     0.0\n",
              "2018-04-25 02:47:02-05:00  45120.400006  50479.834853  ...     0.0     0.0\n",
              "2018-04-25 02:47:03-05:00  45119.566030  50480.222045  ...     0.0     0.0\n",
              "2018-04-25 02:47:04-05:00  45119.769818  50479.854368  ...     0.0     0.0\n",
              "2018-04-25 02:47:05-05:00  45119.927309  50479.513919  ...     0.0     0.0\n",
              "\n",
              "[5 rows x 845 columns]"
            ]
          },
          "metadata": {
            "tags": []
          },
          "execution_count": 5
        }
      ]
    },
    {
      "cell_type": "code",
      "metadata": {
        "id": "WUKFdHuKyov-",
        "colab": {
          "base_uri": "https://localhost:8080/",
          "height": 311
        },
        "outputId": "700a7fbb-2804-4868-a4ef-a91f56ef35de"
      },
      "source": [
        "%matplotlib inline\n",
        "import matplotlib.pyplot as plt\n",
        "\n",
        "plt.plot(df['tr_phi'], df['st%i,m1' % station],'.', label=\"raw\")\n",
        "plt.plot(df['tr_phi'][veto], df['st%i,m1' % station][veto],'.', label = \"to be replaced\")\n",
        "plt.plot(df['tr_phi'][required], df['st%i,m1' % station][required],'.', label = \"required\")\n",
        "plt.plot(df['tr_phi'][regression_data], df['st%i,m1' % station][regression_data],'.', label = \"data used for regression\")\n",
        "plt.xlabel(\"azimuth [deg]\")\n",
        "plt.ylabel(\"dipole m1 [Hz]\")\n",
        "plt.legend()\n",
        "plt.title(\"Station%i\" % station)\n",
        "plt.xlim([315.33,340.33])"
      ],
      "execution_count": null,
      "outputs": [
        {
          "output_type": "execute_result",
          "data": {
            "text/plain": [
              "(315.33, 340.33)"
            ]
          },
          "metadata": {
            "tags": []
          },
          "execution_count": 6
        },
        {
          "output_type": "display_data",
          "data": {
            "image/png": "[encoded data removed]",
            "text/plain": [
              "<Figure size 432x288 with 1 Axes>"
            ]
          },
          "metadata": {
            "tags": [],
            "needs_background": "light"
          }
        }
      ]
    },
    {
      "cell_type": "code",
      "metadata": {
        "id": "ESNtH10zNPu4",
        "colab": {
          "base_uri": "https://localhost:8080/",
          "height": 216
        },
        "outputId": "be9918a3-b9f1-49e9-f0ab-eec4c874f944"
      },
      "source": [
        "df[veto].index"
      ],
      "execution_count": null,
      "outputs": [
        {
          "output_type": "execute_result",
          "data": {
            "text/plain": [
              "DatetimeIndex(['2018-04-25 02:59:48-05:00', '2018-04-25 02:59:49-05:00',\n",
              "               '2018-04-25 02:59:50-05:00', '2018-04-25 02:59:51-05:00',\n",
              "               '2018-04-25 02:59:52-05:00', '2018-04-25 02:59:53-05:00',\n",
              "               '2018-04-25 02:59:54-05:00', '2018-04-25 02:59:55-05:00',\n",
              "               '2018-04-25 02:59:56-05:00', '2018-04-25 02:59:57-05:00',\n",
              "               ...\n",
              "               '2018-04-25 03:04:38-05:00', '2018-04-25 03:04:39-05:00',\n",
              "               '2018-04-25 03:04:40-05:00', '2018-04-25 03:04:41-05:00',\n",
              "               '2018-04-25 03:04:42-05:00', '2018-04-25 03:04:43-05:00',\n",
              "               '2018-04-25 03:04:44-05:00', '2018-04-25 03:04:45-05:00',\n",
              "               '2018-04-25 03:04:46-05:00', '2018-04-25 03:04:47-05:00'],\n",
              "              dtype='datetime64[ns, US/Central]', length=300, freq='S')"
            ]
          },
          "metadata": {
            "tags": []
          },
          "execution_count": 7
        }
      ]
    },
    {
      "cell_type": "markdown",
      "metadata": {
        "id": "0C1wS0_5Kw4N"
      },
      "source": [
        "Produce a linear fit between the \"data used for regression\" points. We are going to use a linear regression."
      ]
    },
    {
      "cell_type": "code",
      "metadata": {
        "id": "nCN7gPlDy9cu"
      },
      "source": [
        "from sklearn.linear_model import LinearRegression\n",
        "\n",
        "regression_data_extent = 1.0\n",
        "\n",
        "times_regression_data = df[regression_data].index.astype('i8').values.reshape(-1,1)\n",
        "y = df[regression_data]['st%i,m1'% station].values.reshape(-1,1)\n",
        "reg = LinearRegression()\n",
        "reg.fit(times_regression_data, y)\n",
        "\n",
        "veto_times = df[veto].index.astype('i8').values.reshape(-1,1)\n",
        "prediction_veto = reg.predict(veto_times)"
      ],
      "execution_count": null,
      "outputs": []
    },
    {
      "cell_type": "code",
      "metadata": {
        "id": "Z7QHWNbpNZmQ",
        "colab": {
          "base_uri": "https://localhost:8080/",
          "height": 305
        },
        "outputId": "5d5f1109-4f51-4fc9-e507-ca75f4becbce"
      },
      "source": [
        "plt.plot(times_regression_data, y,'.', label=\"data used for regression\")\n",
        "plt.plot(veto_times, prediction_veto,'.', label=\"prediction from regression\")\n",
        "print(\"The linear model is: Y = {:.5} + {:.5}X\".format(reg.intercept_[0], reg.coef_[0][0]))"
      ],
      "execution_count": null,
      "outputs": [
        {
          "output_type": "stream",
          "text": [
            "The linear model is: Y = -2.0664e+06 + 1.3914e-12X\n"
          ],
          "name": "stdout"
        },
        {
          "output_type": "display_data",
          "data": {
            "image/png": "[encoded data removed]",
            "text/plain": [
              "<Figure size 432x288 with 1 Axes>"
            ]
          },
          "metadata": {
            "tags": [],
            "needs_background": "light"
          }
        }
      ]
    },
    {
      "cell_type": "code",
      "metadata": {
        "id": "ff9YqrVtMtac",
        "colab": {
          "base_uri": "https://localhost:8080/",
          "height": 311
        },
        "outputId": "d9bc5db7-30ed-4ffd-9b92-06182301f094"
      },
      "source": [
        "plt.plot(df['tr_phi'], df['st%i,m1' % station],'.', label=\"raw\")\n",
        "plt.plot(df['tr_phi'][veto], df['st%i,m1' % station][veto],'.', label = \"to be replaced\")\n",
        "plt.plot(df['tr_phi'][required], df['st%i,m1' % station][required],'.', label = \"required\")\n",
        "plt.plot(df['tr_phi'][regression_data], df['st%i,m1' % station][regression_data],'.', label = \"data used for regression\")\n",
        "plt.plot(df['tr_phi'][veto], prediction_veto,'.', label = \"replacment\")\n",
        "plt.xlabel(\"azimuth [deg]\")\n",
        "plt.ylabel(\"dipole m1 [Hz]\")\n",
        "plt.legend()\n",
        "plt.title(\"Station %i\" % station)\n",
        "plt.xlim([175.36,200.36])"
      ],
      "execution_count": null,
      "outputs": [
        {
          "output_type": "execute_result",
          "data": {
            "text/plain": [
              "(175.36, 200.36)"
            ]
          },
          "metadata": {
            "tags": []
          },
          "execution_count": 10
        },
        {
          "output_type": "display_data",
          "data": {
            "image/png": "[encoded data removed]",
            "text/plain": [
              "<Figure size 432x288 with 1 Axes>"
            ]
          },
          "metadata": {
            "tags": [],
            "needs_background": "light"
          }
        }
      ]
    },
    {
      "cell_type": "code",
      "metadata": {
        "id": "se5bomL0mURi",
        "colab": {
          "base_uri": "https://localhost:8080/",
          "height": 311
        },
        "outputId": "e22a9d54-cf94-413a-9e49-84a4fe429173"
      },
      "source": [
        "import matplotlib.pyplot as plt\n",
        "df[\"fp209\"].plot()\n",
        "plt.title(\"fixed probe #209\")\n",
        "plt.ylabel(\"mixed-down freqeuncy [Hz]\")\n",
        "plt.xlabel('Date Times of Trolley Run')"
      ],
      "execution_count": null,
      "outputs": [
        {
          "output_type": "execute_result",
          "data": {
            "text/plain": [
              "Text(0.5, 0, 'Date Times of Trolley Run')"
            ]
          },
          "metadata": {
            "tags": []
          },
          "execution_count": 18
        },
        {
          "output_type": "display_data",
          "data": {
            "image/png": "[encoded data removed]",
            "text/plain": [
              "<Figure size 432x288 with 1 Axes>"
            ]
          },
          "metadata": {
            "tags": [],
            "needs_background": "light"
          }
        }
      ]
    }
  ]
}